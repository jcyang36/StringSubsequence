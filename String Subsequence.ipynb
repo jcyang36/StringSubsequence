{
 "cells": [
  {
   "cell_type": "markdown",
   "metadata": {},
   "source": [
    "## String Subsequence\n",
    "\n",
    "For Interview Query Question, see here: https://www.interviewquery.com/questions/string-subsequence\n",
    "\n",
    "Given two strings, string1 and string2, find out if string1 is a subsequence of string2.\n",
    "\n",
    "A subsequence is a sequence that can be derived from another sequence by deleting some elements without changing the order of the remaining elements.\n",
    "\n",
    "Example:\n",
    "\n",
    "string1 = 'abc'\n",
    "\n",
    "string2 = 'asbsc'\n",
    "\n",
    "string3 = 'acedb'\n",
    "\n",
    "isSubSequence(string1, string2) -> True\n",
    "\n",
    "isSubSequence(string1, string3) -> False\n",
    " \n",
    " "
   ]
  },
  {
   "cell_type": "code",
   "execution_count": 37,
   "metadata": {},
   "outputs": [],
   "source": [
    "def isSubSequence(string1,string2):\n",
    "    m=len(string1)\n",
    "    n=len(string2)\n",
    "\n",
    "    if m>n: \n",
    "        return False\n",
    "    else:\n",
    "        remainingString=string2\n",
    "        i=0\n",
    "        while i<m:\n",
    "            if remainingString.find(string1[i])==-1: \n",
    "                # if it is not found, the value will be -1\n",
    "                return False\n",
    "            else: \n",
    "                # if it is found, the value will be the index of first occurrence\n",
    "                index=remainingString.find(string1[i])\n",
    "                remainingString=remainingString[index+1:]\n",
    "                i+=1\n",
    "        return True\n",
    "        \n"
   ]
  },
  {
   "cell_type": "code",
   "execution_count": 38,
   "metadata": {},
   "outputs": [],
   "source": [
    "string1='abc'\n",
    "string2='asbsc'\n",
    "string3='acedb'"
   ]
  },
  {
   "cell_type": "code",
   "execution_count": 39,
   "metadata": {},
   "outputs": [
    {
     "data": {
      "text/plain": [
       "True"
      ]
     },
     "execution_count": 39,
     "metadata": {},
     "output_type": "execute_result"
    }
   ],
   "source": [
    "isSubSequence(string1,string2)"
   ]
  },
  {
   "cell_type": "code",
   "execution_count": 40,
   "metadata": {},
   "outputs": [
    {
     "data": {
      "text/plain": [
       "False"
      ]
     },
     "execution_count": 40,
     "metadata": {},
     "output_type": "execute_result"
    }
   ],
   "source": [
    "isSubSequence(string1,string3)"
   ]
  },
  {
   "cell_type": "code",
   "execution_count": 41,
   "metadata": {},
   "outputs": [],
   "source": [
    "string4='ello'\n",
    "string5='hello everybody'"
   ]
  },
  {
   "cell_type": "code",
   "execution_count": 42,
   "metadata": {},
   "outputs": [
    {
     "data": {
      "text/plain": [
       "True"
      ]
     },
     "execution_count": 42,
     "metadata": {},
     "output_type": "execute_result"
    }
   ],
   "source": [
    "isSubSequence(string4,string5)"
   ]
  },
  {
   "cell_type": "code",
   "execution_count": 45,
   "metadata": {},
   "outputs": [
    {
     "data": {
      "text/plain": [
       "False"
      ]
     },
     "execution_count": 45,
     "metadata": {},
     "output_type": "execute_result"
    }
   ],
   "source": [
    "string6='ellll'\n",
    "isSubSequence(string4,string6)"
   ]
  },
  {
   "cell_type": "code",
   "execution_count": 47,
   "metadata": {},
   "outputs": [
    {
     "data": {
      "text/plain": [
       "True"
      ]
     },
     "execution_count": 47,
     "metadata": {},
     "output_type": "execute_result"
    }
   ],
   "source": [
    "string7='ello'\n",
    "isSubSequence(string4,string7)"
   ]
  },
  {
   "cell_type": "code",
   "execution_count": null,
   "metadata": {},
   "outputs": [],
   "source": []
  }
 ],
 "metadata": {
  "kernelspec": {
   "display_name": "Python 3",
   "language": "python",
   "name": "python3"
  },
  "language_info": {
   "codemirror_mode": {
    "name": "ipython",
    "version": 3
   },
   "file_extension": ".py",
   "mimetype": "text/x-python",
   "name": "python",
   "nbconvert_exporter": "python",
   "pygments_lexer": "ipython3",
   "version": "3.8.3"
  }
 },
 "nbformat": 4,
 "nbformat_minor": 4
}
